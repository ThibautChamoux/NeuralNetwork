{
 "cells": [
  {
   "cell_type": "code",
   "execution_count": 99,
   "metadata": {},
   "outputs": [],
   "source": [
    "import numpy as np\n",
    "\n",
    "def sigmoid(z):\n",
    "    return 1 / (1+np.exp(-z))\n",
    "\n",
    "def sigmoid_prime(z):\n",
    "    return sigmoid(z) * (1 - sigmoid(z))\n",
    "\n",
    "class NeuralNetwork():\n",
    "        \n",
    "    def __init__(self, nodes):\n",
    "        \n",
    "        length = len(nodes)\n",
    "        self.length = length\n",
    "        self.W = [np.random.randn(nodes[i], nodes[i-1]) for i in range(1, len(nodes))]\n",
    "        self.B = [np.random.randn(nodes[i]) for i in range(1, len(nodes))]\n",
    "    \n",
    "    def forward(self, x):\n",
    "        \n",
    "        a = x\n",
    "        for i in range(0, self.length-1):\n",
    "            w = self.W[i]\n",
    "            b = self.B[i]\n",
    "            a = sigmoid(np.dot(w, a) + b)\n",
    "        return a\n",
    "        \n",
    "    def compute_nablas(self, x, y):\n",
    "        nabla_W =  [None] * len(self.W)\n",
    "        nabla_B = [None] * len(self.B)\n",
    "        \n",
    "        a = x\n",
    "        A = [x]\n",
    "        Z = []\n",
    "        \n",
    "        for i in range(0, self.length-1):\n",
    "            w = self.W[i]\n",
    "            b = self.B[i]\n",
    "            z = np.dot(w, a) + b\n",
    "            a = sigmoid(z)\n",
    "            \n",
    "            Z.append(z)\n",
    "            A.append(a)\n",
    "    \n",
    "        grad_loss = self.derivative_cost(A[-1], y)\n",
    "        delta = grad_loss * sigmoid_prime(Z[-1])\n",
    "        for i in range(self.length-1, 0, -1):\n",
    "            \n",
    "            nabla_B[i-1] = delta\n",
    "            nabla_W[i-1] = np.dot(delta[:, None], (A[i-1][:, None]).T)\n",
    "            \n",
    "            if i > 1:\n",
    "                w = self.W[i-1]\n",
    "                sig_prime = sigmoid_prime(Z[i-2])\n",
    "                \n",
    "                #print('delta shape : {} ; w shape : {} ; sigmoid shape : {}'.format(delta.shape, w.shape, sig_prime.shape))\n",
    "                delta = np.dot(np.transpose(w), delta) * sig_prime\n",
    "        \n",
    "        return nabla_W, nabla_B\n",
    "        \n",
    "    def train(self, training_set, epoch=10, eta=0.1, test_set=None):\n",
    "        \n",
    "        x_train, y_train = training_set\n",
    "        for i in range(epoch):\n",
    "            \n",
    "            nabla_b = [np.zeros(b.shape) for b in self.B]\n",
    "            nabla_w = [np.zeros(w.shape) for w in self.W]\n",
    "            \n",
    "            for (x, y) in zip(x_train, y_train):\n",
    "                nW, nB = self.compute_nablas(x, y)\n",
    "                self.W = [w-eta*nw for w, nw in zip(self.W, nW)]\n",
    "                self.B = [b-eta*nb for b, nb in zip(self.B, nB)]\n",
    "            \n",
    "            if test_set:\n",
    "                x_test, y_test = test_set\n",
    "                predictions = [self.forward(x) for x in x_test]\n",
    "                \n",
    "                count = 0\n",
    "                for j in range(len(predictions)):\n",
    "                    if np.argmax(predictions[j]) == np.argmax(y_test[j]):\n",
    "                        count += 1\n",
    "                \n",
    "                print('Epoch {} : {} / {}'.format(i, count, len(y_test) ))\n",
    "\n",
    "    \"\"\"\n",
    "    Mean squared error\n",
    "    \"\"\"\n",
    "    def derivative_cost(self, pred, true):\n",
    "        return pred - true"
   ]
  },
  {
   "cell_type": "code",
   "execution_count": null,
   "metadata": {},
   "outputs": [],
   "source": [
    "import tensorflow as tf\n",
    "(x_train, y_train), (x_test, y_test) = tf.keras.datasets.mnist.load_data()\n",
    "\n",
    "b = np.zeros((y_train.size, y_train.max()+1))\n",
    "b[np.arange(y_train.size),y_train] = 1\n",
    "\n",
    "y_train = b\n",
    "\n",
    "b = np.zeros((y_test.size, y_test.max()+1))\n",
    "b[np.arange(y_test.size),y_test] = 1\n",
    "\n",
    "y_test = b\n",
    "\n",
    "x_train = x_train.reshape((60000, 784))\n",
    "x_test = x_test.reshape((10000, 784))"
   ]
  },
  {
   "cell_type": "code",
   "execution_count": 104,
   "metadata": {},
   "outputs": [
    {
     "name": "stderr",
     "output_type": "stream",
     "text": [
      "/home/thibaut/anaconda3/lib/python3.7/site-packages/ipykernel_launcher.py:4: RuntimeWarning: overflow encountered in exp\n",
      "  after removing the cwd from sys.path.\n"
     ]
    },
    {
     "name": "stdout",
     "output_type": "stream",
     "text": [
      "Epoch 0 : 4357 / 10000\n",
      "Epoch 1 : 6034 / 10000\n",
      "Epoch 2 : 7058 / 10000\n",
      "Epoch 3 : 7388 / 10000\n",
      "Epoch 4 : 7645 / 10000\n",
      "Epoch 5 : 7711 / 10000\n",
      "Epoch 6 : 7933 / 10000\n",
      "Epoch 7 : 8153 / 10000\n",
      "Epoch 8 : 8084 / 10000\n",
      "Epoch 9 : 8246 / 10000\n",
      "Epoch 10 : 8203 / 10000\n",
      "Epoch 11 : 8318 / 10000\n",
      "Epoch 12 : 8306 / 10000\n",
      "Epoch 13 : 8350 / 10000\n",
      "Epoch 14 : 7995 / 10000\n",
      "Epoch 15 : 8200 / 10000\n",
      "Epoch 16 : 8301 / 10000\n",
      "Epoch 17 : 8446 / 10000\n",
      "Epoch 18 : 8503 / 10000\n",
      "Epoch 19 : 8512 / 10000\n",
      "Epoch 20 : 8458 / 10000\n",
      "Epoch 21 : 8443 / 10000\n",
      "Epoch 22 : 8506 / 10000\n",
      "Epoch 23 : 8677 / 10000\n",
      "Epoch 24 : 8593 / 10000\n",
      "Epoch 25 : 8511 / 10000\n",
      "Epoch 26 : 8694 / 10000\n",
      "Epoch 27 : 8722 / 10000\n",
      "Epoch 28 : 8758 / 10000\n",
      "Epoch 29 : 8725 / 10000\n",
      "Epoch 30 : 8606 / 10000\n",
      "Epoch 31 : 8728 / 10000\n",
      "Epoch 32 : 8715 / 10000\n",
      "Epoch 33 : 8785 / 10000\n",
      "Epoch 34 : 8781 / 10000\n",
      "Epoch 35 : 8810 / 10000\n",
      "Epoch 36 : 8758 / 10000\n",
      "Epoch 37 : 8709 / 10000\n",
      "Epoch 38 : 8780 / 10000\n",
      "Epoch 39 : 8863 / 10000\n",
      "Epoch 40 : 8723 / 10000\n",
      "Epoch 41 : 8848 / 10000\n",
      "Epoch 42 : 8920 / 10000\n",
      "Epoch 43 : 8862 / 10000\n",
      "Epoch 44 : 8852 / 10000\n",
      "Epoch 45 : 8855 / 10000\n",
      "Epoch 46 : 8897 / 10000\n",
      "Epoch 47 : 8874 / 10000\n",
      "Epoch 48 : 8929 / 10000\n",
      "Epoch 49 : 8907 / 10000\n"
     ]
    }
   ],
   "source": [
    "nn = NeuralNetwork([784, 100, 100, 10])\n",
    "nn.train((x_train, y_train), 50, 0.01, (x_test, y_test))"
   ]
  },
  {
   "cell_type": "code",
   "execution_count": 105,
   "metadata": {},
   "outputs": [
    {
     "name": "stderr",
     "output_type": "stream",
     "text": [
      "/home/thibaut/anaconda3/lib/python3.7/site-packages/ipykernel_launcher.py:4: RuntimeWarning: overflow encountered in exp\n",
      "  after removing the cwd from sys.path.\n"
     ]
    },
    {
     "name": "stdout",
     "output_type": "stream",
     "text": [
      "Epoch 0 : 4745 / 10000\n",
      "Epoch 1 : 5451 / 10000\n",
      "Epoch 2 : 5986 / 10000\n",
      "Epoch 3 : 6368 / 10000\n",
      "Epoch 4 : 6756 / 10000\n",
      "Epoch 5 : 6902 / 10000\n",
      "Epoch 6 : 6838 / 10000\n",
      "Epoch 7 : 7049 / 10000\n",
      "Epoch 8 : 7127 / 10000\n",
      "Epoch 9 : 7129 / 10000\n",
      "Epoch 10 : 7059 / 10000\n",
      "Epoch 11 : 7137 / 10000\n",
      "Epoch 12 : 7254 / 10000\n",
      "Epoch 13 : 7310 / 10000\n",
      "Epoch 14 : 7433 / 10000\n"
     ]
    }
   ],
   "source": [
    "nn_2 = NeuralNetwork([784, 32, 10])\n",
    "nn_2.train((x_train, y_train), 15, 0.01, (x_test, y_test))"
   ]
  },
  {
   "cell_type": "code",
   "execution_count": 110,
   "metadata": {},
   "outputs": [
    {
     "name": "stdout",
     "output_type": "stream",
     "text": [
      "6 6\n"
     ]
    },
    {
     "name": "stderr",
     "output_type": "stream",
     "text": [
      "/home/thibaut/anaconda3/lib/python3.7/site-packages/ipykernel_launcher.py:4: RuntimeWarning: overflow encountered in exp\n",
      "  after removing the cwd from sys.path.\n"
     ]
    }
   ],
   "source": []
  },
  {
   "cell_type": "code",
   "execution_count": null,
   "metadata": {},
   "outputs": [],
   "source": []
  }
 ],
 "metadata": {
  "kernelspec": {
   "display_name": "Python 3",
   "language": "python",
   "name": "python3"
  },
  "language_info": {
   "codemirror_mode": {
    "name": "ipython",
    "version": 3
   },
   "file_extension": ".py",
   "mimetype": "text/x-python",
   "name": "python",
   "nbconvert_exporter": "python",
   "pygments_lexer": "ipython3",
   "version": "3.7.4"
  }
 },
 "nbformat": 4,
 "nbformat_minor": 2
}
